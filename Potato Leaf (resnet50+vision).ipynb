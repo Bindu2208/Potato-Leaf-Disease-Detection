{
  "cells": [
    {
      "cell_type": "markdown",
      "id": "cFbJP6zDPWQB",
      "metadata": {
        "id": "cFbJP6zDPWQB"
      },
      "source": [
        "# **Resnet 50**"
      ]
    },
    {
      "cell_type": "code",
      "execution_count": null,
      "id": "hPiH934ePWDZ",
      "metadata": {
        "id": "hPiH934ePWDZ"
      },
      "outputs": [],
      "source": [
        "import keras"
      ]
    },
    {
      "cell_type": "code",
      "execution_count": null,
      "id": "vDnD5CZIEFte",
      "metadata": {
        "colab": {
          "base_uri": "https://localhost:8080/"
        },
        "id": "vDnD5CZIEFte",
        "outputId": "23ccead9-820a-4a4d-fd22-f96787c62500"
      },
      "outputs": [
        {
          "output_type": "stream",
          "name": "stdout",
          "text": [
            "Mounted at /content/drive\n"
          ]
        }
      ],
      "source": [
        "from google.colab import drive\n",
        "drive.mount('/content/drive')"
      ]
    },
    {
      "cell_type": "code",
      "execution_count": null,
      "id": "MU479IAdP7YF",
      "metadata": {
        "id": "MU479IAdP7YF"
      },
      "outputs": [],
      "source": [
        "num_classes = 3\n",
        "input_shape = (224, 224, 3)\n"
      ]
    },
    {
      "cell_type": "code",
      "execution_count": null,
      "id": "djSDyoOoP91Z",
      "metadata": {
        "colab": {
          "base_uri": "https://localhost:8080/"
        },
        "id": "djSDyoOoP91Z",
        "outputId": "b4aa4cd6-6b5f-42e3-dc1e-37e70964c7e1"
      },
      "outputs": [
        {
          "output_type": "stream",
          "name": "stdout",
          "text": [
            "Found 900 files belonging to 3 classes.\n",
            "Found 300 files belonging to 3 classes.\n",
            "Found 300 files belonging to 3 classes.\n"
          ]
        }
      ],
      "source": [
        "train_ds = keras.utils.image_dataset_from_directory(\n",
        "    directory='/content/drive/MyDrive/Potato/Train',\n",
        "    labels='inferred',\n",
        "    label_mode='categorical',\n",
        "    batch_size=32,\n",
        "    image_size=(224, 224)\n",
        ")\n",
        "test_ds = keras.utils.image_dataset_from_directory(\n",
        "    directory='/content/drive/MyDrive/Potato/Test',\n",
        "    labels='inferred',\n",
        "    label_mode='categorical',\n",
        "    batch_size=32,\n",
        "    image_size=(224, 224)\n",
        ")\n",
        "validation_ds = keras.utils.image_dataset_from_directory(\n",
        "    directory='/content/drive/MyDrive/Potato/Valid',\n",
        "    labels='inferred',\n",
        "    label_mode='categorical',\n",
        "    batch_size=32,\n",
        "    image_size=(224, 224)\n",
        ")"
      ]
    },
    {
      "cell_type": "code",
      "execution_count": null,
      "id": "ndHmmqj6PWAa",
      "metadata": {
        "colab": {
          "base_uri": "https://localhost:8080/",
          "height": 218
        },
        "id": "ndHmmqj6PWAa",
        "outputId": "052add93-9cf0-4333-fcc3-a9cee888cd41"
      },
      "outputs": [
        {
          "output_type": "error",
          "ename": "AttributeError",
          "evalue": "module 'keras._tf_keras.keras.layers' has no attribute 'experimental'",
          "traceback": [
            "\u001b[0;31m---------------------------------------------------------------------------\u001b[0m",
            "\u001b[0;31mAttributeError\u001b[0m                            Traceback (most recent call last)",
            "\u001b[0;32m<ipython-input-5-f30b04275392>\u001b[0m in \u001b[0;36m<cell line: 5>\u001b[0;34m()\u001b[0m\n\u001b[1;32m      4\u001b[0m \u001b[0;31m# Define data augmentation techniques\u001b[0m\u001b[0;34m\u001b[0m\u001b[0;34m\u001b[0m\u001b[0m\n\u001b[1;32m      5\u001b[0m data_augmentation = keras.Sequential([\n\u001b[0;32m----> 6\u001b[0;31m     \u001b[0mkeras\u001b[0m\u001b[0;34m.\u001b[0m\u001b[0mlayers\u001b[0m\u001b[0;34m.\u001b[0m\u001b[0mexperimental\u001b[0m\u001b[0;34m.\u001b[0m\u001b[0mpreprocessing\u001b[0m\u001b[0;34m.\u001b[0m\u001b[0mRandomFlip\u001b[0m\u001b[0;34m(\u001b[0m\u001b[0;34m\"horizontal\"\u001b[0m\u001b[0;34m)\u001b[0m\u001b[0;34m,\u001b[0m\u001b[0;34m\u001b[0m\u001b[0;34m\u001b[0m\u001b[0m\n\u001b[0m\u001b[1;32m      7\u001b[0m     \u001b[0mkeras\u001b[0m\u001b[0;34m.\u001b[0m\u001b[0mlayers\u001b[0m\u001b[0;34m.\u001b[0m\u001b[0mexperimental\u001b[0m\u001b[0;34m.\u001b[0m\u001b[0mpreprocessing\u001b[0m\u001b[0;34m.\u001b[0m\u001b[0mRandomRotation\u001b[0m\u001b[0;34m(\u001b[0m\u001b[0;36m0.1\u001b[0m\u001b[0;34m)\u001b[0m\u001b[0;34m,\u001b[0m\u001b[0;34m\u001b[0m\u001b[0;34m\u001b[0m\u001b[0m\n\u001b[1;32m      8\u001b[0m     \u001b[0mkeras\u001b[0m\u001b[0;34m.\u001b[0m\u001b[0mlayers\u001b[0m\u001b[0;34m.\u001b[0m\u001b[0mexperimental\u001b[0m\u001b[0;34m.\u001b[0m\u001b[0mpreprocessing\u001b[0m\u001b[0;34m.\u001b[0m\u001b[0mRandomZoom\u001b[0m\u001b[0;34m(\u001b[0m\u001b[0;36m0.1\u001b[0m\u001b[0;34m)\u001b[0m\u001b[0;34m,\u001b[0m\u001b[0;34m\u001b[0m\u001b[0;34m\u001b[0m\u001b[0m\n",
            "\u001b[0;31mAttributeError\u001b[0m: module 'keras._tf_keras.keras.layers' has no attribute 'experimental'"
          ]
        }
      ],
      "source": [
        "import tensorflow as tf\n",
        "from tensorflow import keras\n",
        "\n",
        "# Define data augmentation techniques\n",
        "data_augmentation = keras.Sequential([\n",
        "    keras.layers.experimental.preprocessing.RandomFlip(\"horizontal\"),\n",
        "    keras.layers.experimental.preprocessing.RandomRotation(0.1),\n",
        "    keras.layers.experimental.preprocessing.RandomZoom(0.1),\n",
        "])\n",
        "\n",
        "# Load training dataset with data augmentation\n",
        "train_ds = keras.utils.image_dataset_from_directory(\n",
        "    directory='/content/drive/MyDrive/Potato/Train',\n",
        "    labels='inferred',\n",
        "    label_mode='categorical',\n",
        "    batch_size=32,\n",
        "    image_size=(224, 224),\n",
        "    seed=123,  # Set seed for reproducibility\n",
        "    shuffle=True,  # Shuffle the dataset\n",
        "    validation_split=0.2,  # Split data into training and validation sets\n",
        "    subset='training',  # Specify that this is the training set\n",
        ")\n",
        "train_ds = train_ds.prefetch(buffer_size=tf.data.experimental.AUTOTUNE).map(lambda x, y: (data_augmentation(x), y))\n",
        "\n",
        "# Load validation dataset\n",
        "validation_ds = keras.utils.image_dataset_from_directory(\n",
        "    directory='/content/drive/MyDrive/Potato/Valid',\n",
        "    labels='inferred',\n",
        "    label_mode='categorical',\n",
        "    batch_size=32,\n",
        "    image_size=(224, 224),\n",
        "    seed=123,  # Ensure the same seed as training for consistency\n",
        "    shuffle=True,  # Shuffle the dataset\n",
        "    validation_split=0.2,  # Split data into training and validation sets\n",
        "    subset='validation',  # Specify that this is the validation set\n",
        ")\n",
        "validation_ds = validation_ds.prefetch(buffer_size=tf.data.experimental.AUTOTUNE)\n",
        "\n",
        "# Define the model (using a pre-trained CNN model)\n",
        "base_model = keras.applications.ResNet50(\n",
        "    include_top=False,  # Exclude the top dense layers\n",
        "    weights='imagenet',  # Initialize with pre-trained weights\n",
        "    input_shape=(224, 224, 3)\n",
        ")\n",
        "base_model.trainable = False  # Freeze the base model's weights\n",
        "\n",
        "# Add additional layers for classification\n",
        "flatten_layer = keras.layers.Flatten()\n",
        "dropout_layer = keras.layers.Dropout(0.5)\n",
        "output_layer = keras.layers.Dense(num_classes, activation='softmax')\n",
        "\n",
        "# Build the model\n",
        "model = keras.Sequential([\n",
        "    base_model,\n",
        "    flatten_layer,\n",
        "    dropout_layer,\n",
        "    output_layer\n",
        "])\n",
        "\n",
        "# Compile the model\n",
        "model.compile(optimizer='adam',\n",
        "              loss='categorical_crossentropy',\n",
        "              metrics=['accuracy'])\n",
        "\n",
        "# Train the model\n",
        "history = model.fit(train_ds,\n",
        "                    epochs=20,  # Increase number of epochs for real training\n",
        "                    validation_data=validation_ds,\n",
        "                    callbacks=[keras.callbacks.EarlyStopping(patience=5, restore_best_weights=True)])\n",
        "\n",
        "# Evaluate the model on the test set\n",
        "test_ds = keras.utils.image_dataset_from_directory(\n",
        "    directory='/content/drive/MyDrive/Potato/Test',\n",
        "    labels='inferred',\n",
        "    label_mode='categorical',\n",
        "    batch_size=32,\n",
        "    image_size=(224, 224)\n",
        ")\n",
        "test_accuracy = model.evaluate(test_ds)\n",
        "print(\"Test Accuracy:\", test_accuracy[1])\n"
      ]
    },
    {
      "cell_type": "code",
      "execution_count": null,
      "id": "YGgWiJFJPV9k",
      "metadata": {
        "colab": {
          "base_uri": "https://localhost:8080/",
          "height": 929
        },
        "id": "YGgWiJFJPV9k",
        "outputId": "908c000d-db7f-47f6-f0a3-f74cfeb233c5"
      },
      "outputs": [
        {
          "output_type": "display_data",
          "data": {
            "text/plain": [
              "<Figure size 640x480 with 1 Axes>"
            ],
            "image/png": "[encoded data removed]"
          },
          "metadata": {}
        },
        {
          "output_type": "display_data",
          "data": {
            "text/plain": [
              "<Figure size 640x480 with 1 Axes>"
            ],
            "image/png": "[encoded data removed]"
          },
          "metadata": {}
        }
      ],
      "source": [
        "import matplotlib.pyplot as plt\n",
        "\n",
        "def plot_history(item):\n",
        "    plt.plot(history.history[item], label=item)\n",
        "    plt.plot(history.history[\"val_\" + item], label=\"val_\" + item)\n",
        "    plt.xlabel(\"Epochs\")\n",
        "    plt.ylabel(item)\n",
        "    plt.title(\"Train and Validation {} Over Epochs\".format(item), fontsize=14)\n",
        "    plt.legend()\n",
        "    plt.grid()\n",
        "    plt.show()\n",
        "\n",
        "\n",
        "plot_history(\"loss\")\n",
        "plot_history(\"accuracy\")"
      ]
    },
    {
      "cell_type": "code",
      "execution_count": null,
      "id": "fgDn5VpXObWW",
      "metadata": {
        "id": "fgDn5VpXObWW"
      },
      "outputs": [],
      "source": []
    },
    {
      "cell_type": "code",
      "execution_count": null,
      "id": "XT2m32DBR16m",
      "metadata": {
        "id": "XT2m32DBR16m"
      },
      "outputs": [],
      "source": []
    },
    {
      "cell_type": "code",
      "execution_count": null,
      "id": "NWPP0CLvSS9v",
      "metadata": {
        "id": "NWPP0CLvSS9v"
      },
      "outputs": [],
      "source": []
    },
    {
      "cell_type": "code",
      "execution_count": null,
      "id": "cU6lL8ffPV6j",
      "metadata": {
        "colab": {
          "base_uri": "https://localhost:8080/"
        },
        "id": "cU6lL8ffPV6j",
        "outputId": "fbb50ebb-d11e-497e-8672-ac9c61c79820"
      },
      "outputs": [
        {
          "output_type": "stream",
          "name": "stdout",
          "text": [
            "Model: \"sequential_1\"\n",
            "_________________________________________________________________\n",
            " Layer (type)                Output Shape              Param #   \n",
            "=================================================================\n",
            " resnet50 (Functional)       (None, 7, 7, 2048)        23587712  \n",
            "                                                                 \n",
            " flatten (Flatten)           (None, 100352)            0         \n",
            "                                                                 \n",
            " dropout (Dropout)           (None, 100352)            0         \n",
            "                                                                 \n",
            " dense (Dense)               (None, 3)                 301059    \n",
            "                                                                 \n",
            "=================================================================\n",
            "Total params: 23888771 (91.13 MB)\n",
            "Trainable params: 301059 (1.15 MB)\n",
            "Non-trainable params: 23587712 (89.98 MB)\n",
            "_________________________________________________________________\n"
          ]
        }
      ],
      "source": [
        "model.summary()"
      ]
    },
    {
      "cell_type": "code",
      "execution_count": null,
      "id": "If71vET2PV4A",
      "metadata": {
        "id": "If71vET2PV4A"
      },
      "outputs": [],
      "source": [
        "# from sklearn.metrics import roc_curve, auc\n",
        "# import matplotlib.pyplot as plt\n",
        "# import numpy as np\n",
        "\n",
        "# # Predict on the test set\n",
        "# y_pred = model.predict(test_ds)\n",
        "# y_true = np.concatenate([y for x, y in test_ds], axis=0)\n",
        "\n",
        "# # Calculate AUC and ROC curves\n",
        "# fpr = dict()\n",
        "# tpr = dict()\n",
        "# roc_auc = dict()\n",
        "# for i in range(3):  # Assuming you have 3 classes\n",
        "#     fpr[i], tpr[i], _ = roc_curve(y_true[:, i], y_pred[:, i])\n",
        "#     roc_auc[i] = auc(fpr[i], tpr[i])\n",
        "\n",
        "# # Plot ROC curves\n",
        "# plt.figure()\n",
        "# for i in range(3):\n",
        "#     plt.plot(fpr[i], tpr[i], label='ROC curve (class {}) (area = {:.2f})'.format(i, roc_auc[i]))\n",
        "# plt.plot([0, 1], [0, 1], 'k--')\n",
        "# plt.xlim([0.0, 1.0])\n",
        "# plt.ylim([0.0, 1.05])\n",
        "# plt.xlabel('False Positive Rate')\n",
        "# plt.ylabel('True Positive Rate')\n",
        "# plt.title('Receiver Operating Characteristic')\n",
        "# plt.legend(loc=\"lower right\")\n",
        "# plt.show()\n"
      ]
    },
    {
      "cell_type": "code",
      "execution_count": null,
      "id": "JPZNPVTpPVht",
      "metadata": {
        "colab": {
          "base_uri": "https://localhost:8080/",
          "height": 489
        },
        "id": "JPZNPVTpPVht",
        "outputId": "66ef869c-f775-459b-9e16-6f5666bf040a"
      },
      "outputs": [
        {
          "output_type": "stream",
          "name": "stdout",
          "text": [
            "10/10 [==============================] - 3s 98ms/step\n"
          ]
        },
        {
          "output_type": "display_data",
          "data": {
            "text/plain": [
              "<Figure size 640x480 with 1 Axes>"
            ],
            "image/png": "[encoded data removed]"
          },
          "metadata": {}
        }
      ],
      "source": [
        "from sklearn.metrics import roc_curve, auc\n",
        "import matplotlib.pyplot as plt\n",
        "import numpy as np\n",
        "\n",
        "# Define class names\n",
        "class_names = ['Potato_Early_Blight', 'Potato_Healthy', 'Potato_Late_Blight']  # Assuming 'Potato_Early' is the first class\n",
        "\n",
        "# Predict on the test set\n",
        "y_pred = model.predict(test_ds)\n",
        "# print(y_pred)\n",
        "y_true = np.concatenate([y for x, y in test_ds], axis=0)\n",
        "\n",
        "# Calculate AUC and ROC curves\n",
        "fpr = dict()\n",
        "tpr = dict()\n",
        "roc_auc = dict()\n",
        "for i, class_name in enumerate(class_names):\n",
        "    class_index = i  # Assuming class index corresponds to its position in class_names\n",
        "    fpr[class_name], tpr[class_name], _ = roc_curve(y_true[:, class_index], y_pred[:, class_index])\n",
        "    roc_auc[class_name] = auc(fpr[class_name], tpr[class_name])\n",
        "\n",
        "# Plot ROC curves\n",
        "plt.figure()\n",
        "for class_name in class_names:\n",
        "    plt.plot(fpr[class_name], tpr[class_name], label='ROC curve ({}), (AUC = {:.2f})'.format(class_name, roc_auc[class_name]))\n",
        "plt.plot([0, 1], [0, 1], 'k--')\n",
        "plt.xlim([0.0, 1.0])\n",
        "plt.ylim([0.0, 1.05])\n",
        "plt.xlabel('False Positive Rate')\n",
        "plt.ylabel('True Positive Rate')\n",
        "plt.title('Receiver Operating Characteristic')\n",
        "plt.legend(loc=\"lower right\")\n",
        "plt.show()\n"
      ]
    },
    {
      "cell_type": "code",
      "execution_count": null,
      "id": "-dlbnpplPV1G",
      "metadata": {
        "colab": {
          "base_uri": "https://localhost:8080/"
        },
        "id": "-dlbnpplPV1G",
        "outputId": "64d615ad-9613-41a5-8ac9-6747510a2891"
      },
      "outputs": [
        {
          "output_type": "stream",
          "name": "stdout",
          "text": [
            "10/10 [==============================] - 2s 97ms/step\n",
            "Classification Report:\n",
            "\n",
            "Class: Potato_Early_Blight\n",
            "Precision: 0.3584905660377358\n",
            "Recall: 0.38\n",
            "F1-score: 0.3689320388349514\n",
            "Accuracy: 0.36924528301886794\n",
            "\n",
            "Class: Potato_Healthy\n",
            "Precision: 0.28421052631578947\n",
            "Recall: 0.27\n",
            "F1-score: 0.27692307692307694\n",
            "Accuracy: 0.27710526315789474\n",
            "\n",
            "Class: Potato_Late_Blight\n",
            "Precision: 0.3333333333333333\n",
            "Recall: 0.33\n",
            "F1-score: 0.3316582914572864\n",
            "Accuracy: 0.33166666666666667\n"
          ]
        }
      ],
      "source": [
        "from sklearn.metrics import classification_report\n",
        "import numpy as np\n",
        "\n",
        "# Predict on the test set\n",
        "y_pred = model.predict(test_ds)\n",
        "y_true = np.concatenate([y for x, y in test_ds], axis=0)\n",
        "\n",
        "# Generate classification report\n",
        "target_names = ['Potato_Early_Blight', 'Potato_Healthy', 'Potato_Late_Blight']  # Adjust class names accordingly\n",
        "class_report = classification_report(np.argmax(y_true, axis=1), np.argmax(y_pred, axis=1), target_names=target_names, output_dict=True, zero_division='warn')\n",
        "\n",
        "# Print classification report\n",
        "print(\"Classification Report:\")\n",
        "for class_name, metrics in class_report.items():\n",
        "    if class_name in target_names:\n",
        "        print(f\"\\nClass: {class_name}\")\n",
        "        print(f\"Precision: {metrics['precision']}\")\n",
        "        print(f\"Recall: {metrics['recall']}\")\n",
        "        print(f\"F1-score: {metrics['f1-score']}\")\n",
        "        # Calculate accuracy manually\n",
        "        accuracy = (metrics['precision'] + metrics['recall']) / 2\n",
        "        print(f\"Accuracy: {accuracy}\")\n"
      ]
    },
    {
      "cell_type": "code",
      "execution_count": null,
      "id": "26IPFyeaPVyu",
      "metadata": {
        "id": "26IPFyeaPVyu"
      },
      "outputs": [],
      "source": []
    },
    {
      "cell_type": "code",
      "execution_count": null,
      "id": "K-sCysoWPVvf",
      "metadata": {
        "id": "K-sCysoWPVvf"
      },
      "outputs": [],
      "source": []
    },
    {
      "cell_type": "code",
      "execution_count": null,
      "id": "aKYT3GYGPVsf",
      "metadata": {
        "id": "aKYT3GYGPVsf"
      },
      "outputs": [],
      "source": []
    },
    {
      "cell_type": "code",
      "execution_count": null,
      "id": "nOkHy3gsPVpt",
      "metadata": {
        "id": "nOkHy3gsPVpt"
      },
      "outputs": [],
      "source": []
    },
    {
      "cell_type": "code",
      "execution_count": null,
      "id": "uwtEeThnPVmt",
      "metadata": {
        "id": "uwtEeThnPVmt"
      },
      "outputs": [],
      "source": []
    },
    {
      "cell_type": "code",
      "execution_count": null,
      "id": "mTSJLx5APVjl",
      "metadata": {
        "id": "mTSJLx5APVjl"
      },
      "outputs": [],
      "source": []
    },
    {
      "cell_type": "code",
      "execution_count": null,
      "id": "P3L3qlfbPVgH",
      "metadata": {
        "id": "P3L3qlfbPVgH"
      },
      "outputs": [],
      "source": []
    },
    {
      "cell_type": "code",
      "execution_count": null,
      "id": "E0ZPLN-cPVVb",
      "metadata": {
        "id": "E0ZPLN-cPVVb"
      },
      "outputs": [],
      "source": []
    },
    {
      "cell_type": "markdown",
      "id": "3zkZAZp9PJsn",
      "metadata": {
        "id": "3zkZAZp9PJsn"
      },
      "source": [
        "# **Vision Transformer Model**"
      ]
    },
    {
      "cell_type": "code",
      "execution_count": null,
      "id": "6ygLmAE4yM_J",
      "metadata": {
        "colab": {
          "base_uri": "https://localhost:8080/",
          "height": 461
        },
        "id": "6ygLmAE4yM_J",
        "outputId": "5f25a4e5-b4a1-47e1-90ff-46cd0c9b5afd"
      },
      "outputs": [
        {
          "output_type": "stream",
          "name": "stdout",
          "text": [
            "Collecting keras-nightly\n",
            "  Downloading keras_nightly-3.3.3.dev2024050903-py3-none-any.whl (1.1 MB)\n",
            "\u001b[2K     \u001b[90m━━━━━━━━━━━━━━━━━━━━━━━━━━━━━━━━━━━━━━━━\u001b[0m \u001b[32m1.1/1.1 MB\u001b[0m \u001b[31m8.8 MB/s\u001b[0m eta \u001b[36m0:00:00\u001b[0m\n",
            "\u001b[?25hRequirement already satisfied: absl-py in /usr/local/lib/python3.10/dist-packages (from keras-nightly) (1.4.0)\n",
            "Requirement already satisfied: numpy in /usr/local/lib/python3.10/dist-packages (from keras-nightly) (1.25.2)\n",
            "Requirement already satisfied: rich in /usr/local/lib/python3.10/dist-packages (from keras-nightly) (13.7.1)\n",
            "Collecting namex (from keras-nightly)\n",
            "  Downloading namex-0.0.8-py3-none-any.whl (5.8 kB)\n",
            "Requirement already satisfied: h5py in /usr/local/lib/python3.10/dist-packages (from keras-nightly) (3.9.0)\n",
            "Collecting optree (from keras-nightly)\n",
            "  Downloading optree-0.11.0-cp310-cp310-manylinux_2_17_x86_64.manylinux2014_x86_64.whl (311 kB)\n",
            "\u001b[2K     \u001b[90m━━━━━━━━━━━━━━━━━━━━━━━━━━━━━━━━━━━━━━━━\u001b[0m \u001b[32m311.2/311.2 kB\u001b[0m \u001b[31m13.5 MB/s\u001b[0m eta \u001b[36m0:00:00\u001b[0m\n",
            "\u001b[?25hRequirement already satisfied: ml-dtypes in /usr/local/lib/python3.10/dist-packages (from keras-nightly) (0.2.0)\n",
            "Requirement already satisfied: packaging in /usr/local/lib/python3.10/dist-packages (from keras-nightly) (24.0)\n",
            "Requirement already satisfied: typing-extensions>=4.0.0 in /usr/local/lib/python3.10/dist-packages (from optree->keras-nightly) (4.11.0)\n",
            "Requirement already satisfied: markdown-it-py>=2.2.0 in /usr/local/lib/python3.10/dist-packages (from rich->keras-nightly) (3.0.0)\n",
            "Requirement already satisfied: pygments<3.0.0,>=2.13.0 in /usr/local/lib/python3.10/dist-packages (from rich->keras-nightly) (2.16.1)\n",
            "Requirement already satisfied: mdurl~=0.1 in /usr/local/lib/python3.10/dist-packages (from markdown-it-py>=2.2.0->rich->keras-nightly) (0.1.2)\n",
            "Installing collected packages: namex, optree, keras-nightly\n",
            "Successfully installed keras-nightly-3.3.3.dev2024050903 namex-0.0.8 optree-0.11.0\n"
          ]
        },
        {
          "output_type": "display_data",
          "data": {
            "application/vnd.colab-display-data+json": {
              "pip_warning": {
                "packages": [
                  "keras"
                ]
              },
              "id": "2a4ff88aa632485fab82de25afbc683f"
            }
          },
          "metadata": {}
        }
      ],
      "source": [
        "!pip install keras-nightly"
      ]
    },
    {
      "cell_type": "code",
      "execution_count": null,
      "id": "ArJ5qWlFbGJz",
      "metadata": {
        "colab": {
          "base_uri": "https://localhost:8080/",
          "height": 533
        },
        "id": "ArJ5qWlFbGJz",
        "outputId": "76e0da9d-ed8d-4d0d-9d15-e9c0dc76a507"
      },
      "outputs": [
        {
          "output_type": "stream",
          "name": "stdout",
          "text": [
            "Requirement already satisfied: keras in /usr/local/lib/python3.10/dist-packages (2.15.0)\n",
            "Collecting keras\n",
            "  Downloading keras-3.3.3-py3-none-any.whl (1.1 MB)\n",
            "\u001b[2K     \u001b[90m━━━━━━━━━━━━━━━━━━━━━━━━━━━━━━━━━━━━━━━━\u001b[0m \u001b[32m1.1/1.1 MB\u001b[0m \u001b[31m12.0 MB/s\u001b[0m eta \u001b[36m0:00:00\u001b[0m\n",
            "\u001b[?25hRequirement already satisfied: absl-py in /usr/local/lib/python3.10/dist-packages (from keras) (1.4.0)\n",
            "Requirement already satisfied: numpy in /usr/local/lib/python3.10/dist-packages (from keras) (1.25.2)\n",
            "Requirement already satisfied: rich in /usr/local/lib/python3.10/dist-packages (from keras) (13.7.1)\n",
            "Requirement already satisfied: namex in /usr/local/lib/python3.10/dist-packages (from keras) (0.0.8)\n",
            "Requirement already satisfied: h5py in /usr/local/lib/python3.10/dist-packages (from keras) (3.9.0)\n",
            "Requirement already satisfied: optree in /usr/local/lib/python3.10/dist-packages (from keras) (0.11.0)\n",
            "Requirement already satisfied: ml-dtypes in /usr/local/lib/python3.10/dist-packages (from keras) (0.2.0)\n",
            "Requirement already satisfied: typing-extensions>=4.0.0 in /usr/local/lib/python3.10/dist-packages (from optree->keras) (4.11.0)\n",
            "Requirement already satisfied: markdown-it-py>=2.2.0 in /usr/local/lib/python3.10/dist-packages (from rich->keras) (3.0.0)\n",
            "Requirement already satisfied: pygments<3.0.0,>=2.13.0 in /usr/local/lib/python3.10/dist-packages (from rich->keras) (2.16.1)\n",
            "Requirement already satisfied: mdurl~=0.1 in /usr/local/lib/python3.10/dist-packages (from markdown-it-py>=2.2.0->rich->keras) (0.1.2)\n",
            "Installing collected packages: keras\n",
            "  Attempting uninstall: keras\n",
            "    Found existing installation: keras 2.15.0\n",
            "    Uninstalling keras-2.15.0:\n",
            "      Successfully uninstalled keras-2.15.0\n",
            "\u001b[31mERROR: pip's dependency resolver does not currently take into account all the packages that are installed. This behaviour is the source of the following dependency conflicts.\n",
            "tensorflow 2.15.0 requires keras<2.16,>=2.15.0, but you have keras 3.3.3 which is incompatible.\u001b[0m\u001b[31m\n",
            "\u001b[0mSuccessfully installed keras-3.3.3\n"
          ]
        },
        {
          "output_type": "display_data",
          "data": {
            "application/vnd.colab-display-data+json": {
              "pip_warning": {
                "packages": [
                  "keras"
                ]
              },
              "id": "77fc63c42c1a489f800f4f2fb2c0b6f6"
            }
          },
          "metadata": {}
        }
      ],
      "source": [
        "!pip install --upgrade keras"
      ]
    },
    {
      "cell_type": "code",
      "execution_count": null,
      "id": "21c18d43-3514-42c4-98b6-0a7f11065777",
      "metadata": {
        "id": "21c18d43-3514-42c4-98b6-0a7f11065777",
        "colab": {
          "base_uri": "https://localhost:8080/",
          "height": 384
        },
        "outputId": "5c6ee0bd-8775-4bae-dcd7-f377f9b2d1ff"
      },
      "outputs": [
        {
          "output_type": "error",
          "ename": "ImportError",
          "evalue": "cannot import name 'ops' from 'keras' (/usr/local/lib/python3.10/dist-packages/keras/__init__.py)",
          "traceback": [
            "\u001b[0;31m---------------------------------------------------------------------------\u001b[0m",
            "\u001b[0;31mImportError\u001b[0m                               Traceback (most recent call last)",
            "\u001b[0;32m<ipython-input-13-d983bb074554>\u001b[0m in \u001b[0;36m<cell line: 7>\u001b[0;34m()\u001b[0m\n\u001b[1;32m      5\u001b[0m \u001b[0;32mimport\u001b[0m \u001b[0mkeras\u001b[0m\u001b[0;34m\u001b[0m\u001b[0;34m\u001b[0m\u001b[0m\n\u001b[1;32m      6\u001b[0m \u001b[0;32mfrom\u001b[0m \u001b[0mkeras\u001b[0m \u001b[0;32mimport\u001b[0m \u001b[0mlayers\u001b[0m\u001b[0;34m\u001b[0m\u001b[0;34m\u001b[0m\u001b[0m\n\u001b[0;32m----> 7\u001b[0;31m \u001b[0;32mfrom\u001b[0m \u001b[0mkeras\u001b[0m \u001b[0;32mimport\u001b[0m \u001b[0mops\u001b[0m\u001b[0;34m\u001b[0m\u001b[0;34m\u001b[0m\u001b[0m\n\u001b[0m\u001b[1;32m      8\u001b[0m \u001b[0;32mfrom\u001b[0m \u001b[0mkeras\u001b[0m\u001b[0;34m.\u001b[0m\u001b[0mlayers\u001b[0m \u001b[0;32mimport\u001b[0m \u001b[0mInput\u001b[0m\u001b[0;34m,\u001b[0m \u001b[0mConv2D\u001b[0m\u001b[0;34m,\u001b[0m \u001b[0mMaxPooling2D\u001b[0m\u001b[0;34m,\u001b[0m \u001b[0mFlatten\u001b[0m\u001b[0;34m,\u001b[0m \u001b[0mDense\u001b[0m\u001b[0;34m\u001b[0m\u001b[0;34m\u001b[0m\u001b[0m\n\u001b[1;32m      9\u001b[0m \u001b[0;32mimport\u001b[0m \u001b[0mnumpy\u001b[0m \u001b[0;32mas\u001b[0m \u001b[0mnp\u001b[0m\u001b[0;34m\u001b[0m\u001b[0;34m\u001b[0m\u001b[0m\n",
            "\u001b[0;31mImportError\u001b[0m: cannot import name 'ops' from 'keras' (/usr/local/lib/python3.10/dist-packages/keras/__init__.py)",
            "",
            "\u001b[0;31m---------------------------------------------------------------------------\u001b[0;32m\nNOTE: If your import is failing due to a missing package, you can\nmanually install dependencies using either !pip or !apt.\n\nTo view examples of installing some common dependencies, click the\n\"Open Examples\" button below.\n\u001b[0;31m---------------------------------------------------------------------------\u001b[0m\n"
          ],
          "errorDetails": {
            "actions": [
              {
                "action": "open_url",
                "actionText": "Open Examples",
                "url": "/notebooks/snippets/importing_libraries.ipynb"
              }
            ]
          }
        }
      ],
      "source": [
        "import os\n",
        "\n",
        "os.environ[\"KERAS_BACKEND\"] = \"tensorflow\"  # @param [\"tensorflow\", \"jax\", \"torch\"]\n",
        "\n",
        "import keras\n",
        "from keras import layers\n",
        "from keras import ops\n",
        "from keras.layers import Input, Conv2D, MaxPooling2D, Flatten, Dense\n",
        "import numpy as np\n",
        "import matplotlib.pyplot as plt"
      ]
    },
    {
      "cell_type": "code",
      "execution_count": null,
      "id": "72b92695-bb25-4186-9e9e-b22c8a9c4f0f",
      "metadata": {
        "id": "72b92695-bb25-4186-9e9e-b22c8a9c4f0f"
      },
      "outputs": [],
      "source": [
        "num_classes = 3\n",
        "input_shape = (224, 224, 3)"
      ]
    },
    {
      "cell_type": "code",
      "execution_count": null,
      "id": "420ba233-5c5e-42ca-a709-ca9f7c5b1c0b",
      "metadata": {
        "id": "420ba233-5c5e-42ca-a709-ca9f7c5b1c0b"
      },
      "outputs": [],
      "source": [
        "train_ds = keras.utils.image_dataset_from_directory(\n",
        "    directory='/content/drive/MyDrive/Potato/Train',\n",
        "    labels='inferred',\n",
        "    label_mode='categorical',\n",
        "    batch_size=32,\n",
        "    image_size=(224, 224)\n",
        ")\n",
        "test_ds = keras.utils.image_dataset_from_directory(\n",
        "    directory='/content/drive/MyDrive/Potato/Test',\n",
        "    labels='inferred',\n",
        "    label_mode='categorical',\n",
        "    batch_size=32,\n",
        "    image_size=(224, 224)\n",
        ")\n",
        "validation_ds = keras.utils.image_dataset_from_directory(\n",
        "    directory='/content/drive/MyDrive/Potato/Valid',\n",
        "    labels='inferred',\n",
        "    label_mode='categorical',\n",
        "    batch_size=32,\n",
        "    image_size=(224, 224)\n",
        ")"
      ]
    },
    {
      "cell_type": "code",
      "execution_count": null,
      "id": "150ad6e7-cbb6-41b9-bd07-278abdc804c4",
      "metadata": {
        "id": "150ad6e7-cbb6-41b9-bd07-278abdc804c4"
      },
      "outputs": [],
      "source": [
        "learning_rate = 0.001\n",
        "weight_decay = 0.0001\n",
        "batch_size = 256\n",
        "num_epochs = 10  # For real training, use num_epochs=100. 10 is a test value\n",
        "image_size = 224  # We'll resize input images to this size\n",
        "patch_size = 16  # Size of the patches to be extract from the input images\n",
        "num_patches = (image_size // patch_size) ** 2\n",
        "projection_dim = 64\n",
        "num_heads = 4\n",
        "transformer_units = [\n",
        "    projection_dim * 2,\n",
        "    projection_dim,\n",
        "]  # Size of the transformer layers\n",
        "transformer_layers = 8\n",
        "mlp_head_units = [\n",
        "    2048,\n",
        "    1024,\n",
        "]  # Size of the dense layers of the final classifier"
      ]
    },
    {
      "cell_type": "code",
      "execution_count": null,
      "id": "hkvbhyqP4qUH",
      "metadata": {
        "id": "hkvbhyqP4qUH"
      },
      "outputs": [],
      "source": [
        "!pip install tensorflow"
      ]
    },
    {
      "cell_type": "code",
      "execution_count": null,
      "id": "hf_KCNqo4viv",
      "metadata": {
        "id": "hf_KCNqo4viv"
      },
      "outputs": [],
      "source": [
        "import tensorflow as tf\n",
        "from tensorflow import keras\n",
        "from tensorflow.keras import layers"
      ]
    },
    {
      "cell_type": "code",
      "execution_count": null,
      "id": "7705efdc-b369-434d-8c90-c45fdf960f20",
      "metadata": {
        "id": "7705efdc-b369-434d-8c90-c45fdf960f20"
      },
      "outputs": [],
      "source": [
        "image_size = 128  # Replace with the desired image size"
      ]
    },
    {
      "cell_type": "code",
      "execution_count": null,
      "id": "U5xJhCD95DwU",
      "metadata": {
        "id": "U5xJhCD95DwU"
      },
      "outputs": [],
      "source": [
        "# Define the data augmentation pipeline\n",
        "data_augmentation = keras.Sequential(\n",
        "    [\n",
        "        layers.Normalization(),\n",
        "        layers.Resizing(image_size, image_size),\n",
        "        layers.RandomFlip(\"horizontal\"),\n",
        "        layers.RandomRotation(factor=0.02),\n",
        "        layers.RandomZoom(height_factor=0.2, width_factor=0.2),\n",
        "    ],\n",
        "    name=\"data_augmentation\",\n",
        ")"
      ]
    },
    {
      "cell_type": "code",
      "execution_count": null,
      "id": "R5FXdZVc44Ix",
      "metadata": {
        "id": "R5FXdZVc44Ix"
      },
      "outputs": [],
      "source": [
        "# Load the training data\n",
        "x_train = tf.keras.preprocessing.image_dataset_from_directory(\n",
        "    \"/content/drive/MyDrive/Potato/Train\",\n",
        "    image_size=(image_size, image_size),\n",
        "    batch_size=32,\n",
        ")"
      ]
    },
    {
      "cell_type": "code",
      "execution_count": null,
      "id": "b04e4a02-fcac-4f26-967f-12a2d30817e3",
      "metadata": {
        "id": "b04e4a02-fcac-4f26-967f-12a2d30817e3"
      },
      "outputs": [],
      "source": [
        "def mlp(x, hidden_units, dropout_rate):\n",
        "    for units in hidden_units:\n",
        "        x = layers.Dense(units, activation=keras.activations.gelu)(x)\n",
        "        x = layers.Dropout(dropout_rate)(x)\n",
        "    return x"
      ]
    },
    {
      "cell_type": "code",
      "execution_count": null,
      "id": "341a841a-7700-4c44-b6ae-2a04a946e8d0",
      "metadata": {
        "id": "341a841a-7700-4c44-b6ae-2a04a946e8d0"
      },
      "outputs": [],
      "source": [
        "class Patches(layers.Layer):\n",
        "    def __init__(self, patch_size):\n",
        "        super().__init__()\n",
        "        self.patch_size = patch_size\n",
        "\n",
        "    def call(self, images):\n",
        "        input_shape = ops.shape(images)\n",
        "        batch_size = input_shape[0]\n",
        "        height = input_shape[1]\n",
        "        width = input_shape[2]\n",
        "        channels = input_shape[3]\n",
        "        num_patches_h = height // self.patch_size\n",
        "        num_patches_w = width // self.patch_size\n",
        "        patches = keras.ops.image.extract_patches(images, size=self.patch_size)\n",
        "        patches = ops.reshape(\n",
        "            patches,\n",
        "            (\n",
        "                batch_size,\n",
        "                num_patches_h * num_patches_w,\n",
        "                self.patch_size * self.patch_size * channels,\n",
        "            ),\n",
        "        )\n",
        "        return patches\n",
        "\n",
        "    def get_config(self):\n",
        "        config = super().get_config()\n",
        "        config.update({\"patch_size\": self.patch_size})\n",
        "        return config"
      ]
    },
    {
      "cell_type": "code",
      "execution_count": null,
      "id": "l8-b-uBe5a0r",
      "metadata": {
        "id": "l8-b-uBe5a0r"
      },
      "outputs": [],
      "source": [
        "import tensorflow as tf\n",
        "from tensorflow import keras\n",
        "from tensorflow.keras import layers\n",
        "from tensorflow.keras.layers.experimental import preprocessing\n",
        "\n",
        "import matplotlib.pyplot as plt\n",
        "import numpy as np"
      ]
    },
    {
      "cell_type": "code",
      "execution_count": null,
      "id": "UWCfxHC75qno",
      "metadata": {
        "id": "UWCfxHC75qno"
      },
      "outputs": [],
      "source": [
        "# Define train_ds here, for example:\n",
        "train_ds = tf.keras.preprocessing.image_dataset_from_directory(\n",
        "    \"/content/drive/MyDrive/Potato/Train\",\n",
        "    image_size=(image_size, image_size),\n",
        "    batch_size=32,\n",
        ")"
      ]
    },
    {
      "cell_type": "code",
      "execution_count": null,
      "id": "oiM576A46UF0",
      "metadata": {
        "id": "oiM576A46UF0"
      },
      "outputs": [],
      "source": [
        "!pip install tensorflow-addons"
      ]
    },
    {
      "cell_type": "code",
      "execution_count": null,
      "id": "e47561e1-07da-4464-8950-99d2dadeb674",
      "metadata": {
        "id": "e47561e1-07da-4464-8950-99d2dadeb674"
      },
      "outputs": [],
      "source": [
        "import matplotlib.pyplot as plt\n",
        "import numpy as np\n",
        "import tensorflow as tf\n",
        "from tensorflow.keras import layers\n",
        "\n",
        "# Define the Patches class\n",
        "class Patches(layers.Layer):\n",
        "    def __init__(self, patch_size):\n",
        "        super(Patches, self).__init__()\n",
        "        self.patch_size = patch_size\n",
        "\n",
        "    def call(self, images):\n",
        "        batch_size = tf.shape(images)[0]\n",
        "        patches = tf.image.extract_patches(\n",
        "            images=images,\n",
        "            sizes=[1, self.patch_size, self.patch_size, 1],\n",
        "            strides=[1, self.patch_size, self.patch_size, 1],\n",
        "            rates=[1, 1, 1, 1],\n",
        "            padding='VALID'\n",
        "        )\n",
        "        patch_dims = patches.shape[-1]\n",
        "        patches = tf.reshape(patches, [batch_size, -1, patch_dims])\n",
        "        return patches\n",
        "\n",
        "# Assuming train_ds is your TensorFlow dataset\n",
        "plt.figure(figsize=(4, 4))\n",
        "\n",
        "# Define image_size and patch_size\n",
        "image_size = 224\n",
        "patch_size = 16\n",
        "\n",
        "for images, labels in train_ds.take(1):  # Assuming you just want to visualize the first batch\n",
        "    image = images[np.random.choice(range(images.shape[0]))]\n",
        "    plt.imshow(image.numpy().astype(\"uint8\"))\n",
        "    plt.axis(\"off\")\n",
        "\n",
        "    resized_image = tf.image.resize(\n",
        "        tf.convert_to_tensor([image]), size=(image_size, image_size)\n",
        "    )\n",
        "    patches_layer = Patches(patch_size)\n",
        "    patches = patches_layer(resized_image)\n",
        "    print(f\"Image size: {image_size} X {image_size}\")\n",
        "    print(f\"Patch size: {patch_size} X {patch_size}\")\n",
        "    print(f\"Patches per image: {patches.shape[1]}\")\n",
        "    print(f\"Elements per patch: {patches.shape[-1]}\")\n",
        "\n",
        "    n = int(np.sqrt(patches.shape[1]))\n",
        "    plt.figure(figsize=(4, 4))\n",
        "    for i, patch in enumerate(patches[0]):\n",
        "        ax = plt.subplot(n, n, i + 1)\n",
        "        patch_img = tf.reshape(patch, (patch_size, patch_size, 3))\n",
        "        plt.imshow(patch_img.numpy().astype(\"uint8\"))\n",
        "        plt.axis(\"off\")\n",
        "\n",
        "plt.show()\n"
      ]
    },
    {
      "cell_type": "code",
      "execution_count": null,
      "id": "kWrBO0VAaJa3",
      "metadata": {
        "id": "kWrBO0VAaJa3"
      },
      "outputs": [],
      "source": [
        "import cv2\n",
        "import matplotlib.pyplot as plt\n",
        "import os\n",
        "import tensorflow as tf\n",
        "\n",
        "\n",
        "def rotate_image(image, angle):\n",
        "    rows, cols = image.shape[:2]\n",
        "    M = cv2.getRotationMatrix2D((cols / 2, rows / 2), angle, 1)\n",
        "    return cv2.warpAffine(image, M, (cols, rows))\n",
        "\n",
        "\n",
        "\n",
        "# Function to display images\n",
        "\n",
        "\n",
        "\n",
        "def display_images(I):\n",
        "    # Load the image\n",
        "    # I = cv2.imread(image_path)\n",
        "    # Display the original imagei\n",
        "    # plt.figure()I\n",
        "    I=cv2.cvtColor(I, cv2.COLOR_BGR2RGB)\n",
        "    # Display Original Image\n",
        "    plt.subplot(2, 2, 1)\n",
        "    plt.imshow(cv2.cvtColor(I, cv2.COLOR_BGR2RGB))\n",
        "    plt.title('Original Image')\n",
        "    plt.axis(\"off\")\n",
        "    # plt.show()\n",
        "\n",
        "    # Scaling\n",
        "    s = 3\n",
        "    j = cv2.resize(I, None, fx=s, fy=s)\n",
        "    plt.subplot(2, 2, 2)\n",
        "    plt.imshow(cv2.cvtColor(j, cv2.COLOR_BGR2RGB))\n",
        "    plt.title('Scaled Image')\n",
        "    plt.axis(\"off\")\n",
        "    # plt.show()\n",
        "\n",
        "    # Rotation\n",
        "    K = rotate_image(j, 60)\n",
        "    plt.subplot(2, 2, 3)\n",
        "    plt.imshow(cv2.cvtColor(K, cv2.COLOR_BGR2RGB))\n",
        "    plt.title('Rotated Image 60deg')\n",
        "    plt.axis(\"off\")\n",
        "    # plt.show()\n",
        "\n",
        "    R = rotate_image(j, -45)\n",
        "    plt.subplot(2, 2, 4)\n",
        "    plt.imshow(cv2.cvtColor(R, cv2.COLOR_BGR2RGB))\n",
        "    plt.title('Rotated Image 45deg')\n",
        "    plt.axis(\"off\")\n",
        "    # plt.show()\n",
        "\n",
        "    plt.tight_layout()\n",
        "    plt.show()\n",
        "\n",
        "    # Rest of the code for Resized images using different methods...\n",
        "    # Display the color image and its Resized images by different methods\n",
        "    plt.figure()\n",
        "\n",
        "    plt.subplot(2, 2, 1)\n",
        "    plt.imshow(cv2.cvtColor(I, cv2.COLOR_BGR2RGB))\n",
        "    plt.title('Original Image')\n",
        "    plt.axis(\"off\")\n",
        "    # plt.show()\n",
        "\n",
        "    # Display Resized image by Bilinear method\n",
        "    B = cv2.resize(I, None, fx=5, fy=5, interpolation=cv2.INTER_LINEAR)\n",
        "    plt.subplot(2, 2, 2)\n",
        "    plt.imshow(cv2.cvtColor(B, cv2.COLOR_BGR2RGB))\n",
        "    plt.title('Bilinear Image')\n",
        "    plt.axis(\"off\")\n",
        "    # plt.show()\n",
        "\n",
        "    # Display Resized image by Nearest method\n",
        "    C = cv2.resize(I, None, fx=5, fy=5, interpolation=cv2.INTER_NEAREST)\n",
        "    plt.subplot(2, 2, 3)\n",
        "    plt.imshow(cv2.cvtColor(C, cv2.COLOR_BGR2RGB))\n",
        "    plt.title('Nearest Image')\n",
        "    plt.axis(\"off\")\n",
        "    # plt.show()\n",
        "\n",
        "    # Display Resized image by Bicubic method\n",
        "    D = cv2.resize(I, None, fx=5, fy=5, interpolation=cv2.INTER_CUBIC)\n",
        "    plt.subplot(2, 2, 4)\n",
        "    plt.imshow(cv2.cvtColor(D, cv2.COLOR_BGR2RGB))\n",
        "    plt.title('Bicubic Image')\n",
        "    plt.axis(\"off\")\n",
        "    # plt.show()\n",
        "\n",
        "# Function to enhance images\n",
        "# def enhance_image(image):\n",
        "#     image=cv2.cvtColor(image, cv2.COLOR_BGR2RGB)\n",
        "#     # Image Enhancement\n",
        "#     plt.subplot(4,2,1)\n",
        "#     plt.imshow(cv2.cvtColor(image, cv2.COLOR_BGR2RGB))\n",
        "#     plt.title('Original Image')\n",
        "#     plt.axis(\"off\")\n",
        "\n",
        "#     g = cv2.cvtColor(image, cv2.COLOR_BGR2GRAY)\n",
        "#     plt.subplot(4,2,3)\n",
        "#     plt.imshow(g, cmap='gray')\n",
        "#     plt.title('Gray Image')\n",
        "#     plt.axis(\"off\")\n",
        "\n",
        "#     # Image Enhancement using imadjust\n",
        "#     J = cv2.convertScaleAbs(g, alpha=0.7, beta=76)  # Equivalent to imadjust(g, [0 255], [0.3*255 0.7*255])\n",
        "#     plt.subplot(4,2,4)\n",
        "#     plt.imshow(J, cmap='gray')\n",
        "#     plt.title('Enhanced Image')\n",
        "#     plt.axis(\"off\")\n",
        "\n",
        "#     # Separate color channels\n",
        "#     b, g, r = cv2.split(image)\n",
        "\n",
        "#     # Adjust each channel separately\n",
        "#     b = cv2.convertScaleAbs(b, alpha=0.2, beta=76)\n",
        "#     g = cv2.convertScaleAbs(g, alpha=0.3, beta=76)\n",
        "#     # Red channel is not adjusted to keep it unchanged.\n",
        "\n",
        "#     # Merge the channels back together\n",
        "#     D = cv2.merge([b, g, r])\n",
        "#     plt.subplot(4,2,5)\n",
        "#     plt.imshow(cv2.cvtColor(D, cv2.COLOR_BGR2RGB))\n",
        "#     plt.title('Enhanced Image 2')\n",
        "#     plt.axis(\"off\")\n",
        "\n",
        "#     # Histogram and Histogram Equalization\n",
        "#     plt.subplot(4,2,6)\n",
        "#     plt.hist(g.ravel(), bins=256, range=[0, 256], color='b', alpha=0.7)\n",
        "#     plt.title('Histogram of Gray Image')\n",
        "#     # plt.axis(\"off\")\n",
        "\n",
        "#     m = cv2.equalizeHist(g)\n",
        "#     plt.subplot(4, 2, 7)\n",
        "#     plt.imshow(m, cmap='gray')\n",
        "#     plt.title('Equalized Image')\n",
        "#     plt.axis(\"off\")\n",
        "\n",
        "#     plt.subplot(4, 2, 8)\n",
        "#     plt.hist(m.ravel(), bins=256, range=[0, 256], color='b', alpha=0.7)\n",
        "#     plt.title('Histogram of Equalized Image')\n",
        "#     # plt.axis(\"off\")\n",
        "\n",
        "#     plt.tight_layout()\n",
        "#     plt.show()\n",
        "\n",
        "def enhance_image(image):\n",
        "    image = cv2.cvtColor(image, cv2.COLOR_BGR2RGB)\n",
        "    # Image Enhancement\n",
        "    fig, axes = plt.subplots(4, 2, figsize=(10, 20))  # Larger figure size\n",
        "    plt.subplots_adjust(hspace=0.5)  # Adjust vertical spacing between subplots\n",
        "\n",
        "    axes[0, 0].imshow(cv2.cvtColor(image, cv2.COLOR_BGR2RGB))\n",
        "    axes[0, 0].set_title('Original Image')\n",
        "    axes[0, 0].axis(\"off\")\n",
        "\n",
        "    g = cv2.cvtColor(image, cv2.COLOR_BGR2GRAY)\n",
        "    axes[1, 0].imshow(g, cmap='gray')\n",
        "    axes[1, 0].set_title('Gray Image')\n",
        "    axes[1, 0].axis(\"off\")\n",
        "\n",
        "    # Image Enhancement using imadjust\n",
        "    J = cv2.convertScaleAbs(g, alpha=0.7, beta=76)\n",
        "    axes[1, 1].imshow(J, cmap='gray')\n",
        "    axes[1, 1].set_title('Enhanced Image')\n",
        "    axes[1, 1].axis(\"off\")\n",
        "\n",
        "    # Separate color channels\n",
        "    b, g, r = cv2.split(image)\n",
        "\n",
        "    # Adjust each channel separately\n",
        "    b = cv2.convertScaleAbs(b, alpha=0.2, beta=76)\n",
        "    g = cv2.convertScaleAbs(g, alpha=0.3, beta=76)\n",
        "    # Red channel is not adjusted to keep it unchanged.\n",
        "\n",
        "    # Merge the channels back together\n",
        "    D = cv2.merge([b, g, r])\n",
        "    axes[2, 0].imshow(cv2.cvtColor(D, cv2.COLOR_BGR2RGB))\n",
        "    axes[2, 0].set_title('Enhanced Image 2')\n",
        "    axes[2, 0].axis(\"off\")\n",
        "\n",
        "    # Histogram and Histogram Equalization\n",
        "    axes[2, 1].hist(g.ravel(), bins=256, range=[0, 256], color='b', alpha=0.7)\n",
        "    axes[2, 1].set_title('Histogram of Gray Image')\n",
        "\n",
        "    m = cv2.equalizeHist(g)\n",
        "    axes[3, 0].imshow(m, cmap='gray')\n",
        "    axes[3, 0].set_title('Equalized Image')\n",
        "    axes[3, 0].axis(\"off\")\n",
        "\n",
        "    axes[3, 1].hist(m.ravel(), bins=256, range=[0, 256], color='b', alpha=0.7)\n",
        "    axes[3, 1].set_title('Histogram of Equalized Image')\n",
        "\n",
        "    plt.show()\n",
        "\n",
        "\n",
        "\n",
        "\n",
        "\n",
        "for images, labels in train_ds.take(1):\n",
        "    # Display the first image in the batch\n",
        "    plt.imshow(images[0].numpy().astype(\"uint8\"))\n",
        "    plt.axis(\"off\")\n",
        "    plt.show()\n",
        "    # Display the first label in the batch\n",
        "    print(labels[0].numpy())\n",
        "    display_images(images[0].numpy().astype(\"uint8\"))\n",
        "    enhance_image(images[0].numpy().astype(\"uint8\"))\n",
        "    break\n",
        "    # enhance_image(images[0].numpy().astype(\"uint8\"))\n"
      ]
    },
    {
      "cell_type": "code",
      "execution_count": null,
      "id": "3b8e93f1-f6c4-43e0-a024-8288624da864",
      "metadata": {
        "id": "3b8e93f1-f6c4-43e0-a024-8288624da864"
      },
      "outputs": [],
      "source": [
        "class PatchEncoder(layers.Layer):\n",
        "    def __init__(self, num_patches, projection_dim):\n",
        "        super().__init__()\n",
        "        self.num_patches = num_patches\n",
        "        self.projection = layers.Dense(units=projection_dim)\n",
        "        self.position_embedding = layers.Embedding(\n",
        "            input_dim=num_patches, output_dim=projection_dim\n",
        "        )\n",
        "\n",
        "    def call(self, patch):\n",
        "        positions = ops.expand_dims(\n",
        "            ops.arange(start=0, stop=self.num_patches, step=1), axis=0\n",
        "        )\n",
        "        projected_patches = self.projection(patch)\n",
        "        encoded = projected_patches + self.position_embedding(positions)\n",
        "        return encoded\n",
        "\n",
        "    def get_config(self):\n",
        "        config = super().get_config()\n",
        "        config.update({\"num_patches\": self.num_patches})\n",
        "        return config"
      ]
    },
    {
      "cell_type": "code",
      "execution_count": null,
      "id": "583ba518-ea5d-4838-bdc8-8a3e7fa439cc",
      "metadata": {
        "id": "583ba518-ea5d-4838-bdc8-8a3e7fa439cc"
      },
      "outputs": [],
      "source": []
    },
    {
      "cell_type": "code",
      "execution_count": null,
      "id": "db306948-cc4c-410d-9a15-8feef1ff0678",
      "metadata": {
        "id": "db306948-cc4c-410d-9a15-8feef1ff0678"
      },
      "outputs": [],
      "source": [
        "def create_vit_classifier():\n",
        "    inputs = keras.Input(shape=input_shape)\n",
        "    # Augment data.\n",
        "    augmented = data_augmentation(inputs)\n",
        "    # Create patches.\n",
        "    patches = Patches(patch_size)(augmented)\n",
        "    # Encode patches.\n",
        "    encoded_patches = PatchEncoder(num_patches, projection_dim)(patches)\n",
        "\n",
        "    # Create multiple layers of the Transformer block.\n",
        "    for _ in range(transformer_layers):\n",
        "        # Layer normalization 1.\n",
        "        x1 = layers.LayerNormalization(epsilon=1e-6)(encoded_patches)\n",
        "        # Create a multi-head attention layer.\n",
        "        attention_output = layers.MultiHeadAttention(\n",
        "            num_heads=num_heads, key_dim=projection_dim, dropout=0.1\n",
        "        )(x1, x1)\n",
        "        # Skip connection 1.\n",
        "        x2 = layers.Add()([attention_output, encoded_patches])\n",
        "        # Layer normalization 2.\n",
        "        x3 = layers.LayerNormalization(epsilon=1e-6)(x2)\n",
        "        # MLP.\n",
        "        x3 = mlp(x3, hidden_units=transformer_units, dropout_rate=0.1)\n",
        "        # Skip connection 2.\n",
        "        encoded_patches = layers.Add()([x3, x2])\n",
        "\n",
        "    # Create a [batch_size, projection_dim] tensor.\n",
        "    representation = layers.LayerNormalization(epsilon=1e-6)(encoded_patches)\n",
        "    representation = layers.Flatten()(representation)\n",
        "    representation = layers.Dropout(0.5)(representation)\n",
        "    # Add MLP.\n",
        "    features = mlp(representation, hidden_units=mlp_head_units, dropout_rate=0.5)\n",
        "    # Classify outputs.\n",
        "    logits = layers.Dense(num_classes)(features)\n",
        "    # Create the Keras model.\n",
        "    model = keras.Model(inputs=inputs, outputs=logits)\n",
        "    return model"
      ]
    },
    {
      "cell_type": "code",
      "execution_count": null,
      "id": "1a302ee4-0c6b-4dd0-a0d6-cad3b873b8bc",
      "metadata": {
        "id": "1a302ee4-0c6b-4dd0-a0d6-cad3b873b8bc"
      },
      "outputs": [],
      "source": [
        "import tensorflow as tf\n",
        "from tensorflow import keras\n",
        "from tensorflow.keras import layers\n",
        "\n",
        "# Define input shape\n",
        "input_shape = (224, 224, 3)  # Example shape, replace with your input shape\n",
        "\n",
        "def create_vit_classifier():\n",
        "    inputs = keras.Input(shape=input_shape)\n",
        "    # Augment data.\n",
        "    augmented = data_augmentation(inputs)\n",
        "    # Create patches.\n",
        "\n",
        "    # Define the rest of your model architecture here\n",
        "    # Example:\n",
        "    x = layers.Conv2D(64, 3, activation='relu')(augmented)\n",
        "    x = layers.MaxPooling2D()(x)\n",
        "    x = layers.Conv2D(128, 3, activation='relu')(x)\n",
        "    x = layers.MaxPooling2D()(x)\n",
        "    x = layers.Flatten()(x)\n",
        "    outputs = layers.Dense(10, activation='softmax')(x)\n",
        "\n",
        "    model = keras.Model(inputs, outputs)\n",
        "    return model\n",
        "\n",
        "mo = create_vit_classifier()\n",
        "mo.summary()\n"
      ]
    },
    {
      "cell_type": "code",
      "execution_count": null,
      "id": "rNTuxBcf80py",
      "metadata": {
        "id": "rNTuxBcf80py"
      },
      "outputs": [],
      "source": [
        "learning_rate = 0.001"
      ]
    },
    {
      "cell_type": "code",
      "execution_count": null,
      "id": "7abb8284-b5e9-4eb6-92a7-c9c1a55bd08d",
      "metadata": {
        "id": "7abb8284-b5e9-4eb6-92a7-c9c1a55bd08d"
      },
      "outputs": [],
      "source": [
        "import tensorflow as tf\n",
        "from tensorflow import keras\n",
        "from tensorflow.keras import layers\n",
        "\n",
        "# Define input shape\n",
        "input_shape = (224, 224, 3)  # Example shape, replace with your input shape\n",
        "\n",
        "# Define weight_decay, learning_rate, batch_size, and validation_ds\n",
        "weight_decay = 0.001  # Example value, replace with your desired weight decay\n",
        "learning_rate = 0.001  # Example value, replace with your desired learning rate\n",
        "batch_size = 32  # Example value, replace with your desired batch size\n",
        "\n",
        "# Define your train and validation datasets (train_ds and validation_ds)\n",
        "\n",
        "def create_vit_classifier():\n",
        "    inputs = keras.Input(shape=input_shape)\n",
        "    # Augment data.\n",
        "    augmented = data_augmentation(inputs)\n",
        "    # Create patches.\n",
        "\n",
        "    # Define the rest of your model architecture here\n",
        "    # Example:\n",
        "    x = layers.Conv2D(64, 3, activation='relu')(augmented)\n",
        "    x = layers.MaxPooling2D()(x)\n",
        "    x = layers.Conv2D(128, 3, activation='relu')(x)\n",
        "    x = layers.MaxPooling2D()(x)\n",
        "    x = layers.Flatten()(x)\n",
        "    outputs = layers.Dense(1, activation='sigmoid')(x)  # Binary classification, so output size should be 1\n",
        "\n",
        "    model = keras.Model(inputs, outputs)\n",
        "    return model\n",
        "\n",
        "def run_experiment(model):\n",
        "    optimizer = keras.optimizers.AdamW(\n",
        "        learning_rate=learning_rate, weight_decay=weight_decay\n",
        "    )\n",
        "\n",
        "    model.compile(\n",
        "        optimizer=optimizer,\n",
        "        loss=keras.losses.BinaryCrossentropy(),  # No need for from_logits=True\n",
        "        metrics=[\n",
        "            keras.metrics.BinaryAccuracy(name=\"accuracy\"),\n",
        "            # keras.metrics.BinaryTopKCategoricalAccuracy(5, name=\"top-5-accuracy\"),\n",
        "        ],\n",
        "    )\n",
        "\n",
        "    checkpoint_filepath = \"tmp/checkpoint.weights.h5\"\n",
        "    checkpoint_callback = keras.callbacks.ModelCheckpoint(\n",
        "        checkpoint_filepath,\n",
        "        monitor=\"val_accuracy\",\n",
        "        save_best_only=True,\n",
        "        save_weights_only=True,\n",
        "    )\n",
        "\n",
        "    history = model.fit(\n",
        "        train_ds,\n",
        "        batch_size=batch_size,\n",
        "        epochs=30,\n",
        "        validation_split=0.1,\n",
        "        validation_data=validation_ds,\n",
        "        callbacks=[checkpoint_callback],\n",
        "    )\n",
        "\n",
        "    model.load_weights(checkpoint_filepath)\n",
        "    loss, accuracy = model.evaluate(validation_ds)\n",
        "    print(f\"Test accuracy: {round(accuracy * 100, 2)}%\")\n",
        "\n",
        "    return history\n",
        "\n",
        "# Preprocess function to resize images\n",
        "def preprocess_data(image, label):\n",
        "    image = tf.image.resize(image, (224, 224))\n",
        "    # Other preprocessing steps if necessary\n",
        "    return image, label\n",
        "\n",
        "# Preprocess the training dataset\n",
        "train_ds = train_ds.map(preprocess_data)\n",
        "\n",
        "validation_data_dir = '/content/drive/MyDrive/Potato/Valid'\n",
        "\n",
        "validation_ds = tf.keras.preprocessing.image_dataset_from_directory(\n",
        "    validation_data_dir,\n",
        "    image_size=(224, 224),\n",
        "    batch_size=batch_size\n",
        ")\n",
        "\n",
        "# Assuming train_ds and validation_ds are defined elsewhere\n",
        "vit_classifier = create_vit_classifier()\n",
        "history = run_experiment(vit_classifier)\n"
      ]
    },
    {
      "cell_type": "code",
      "execution_count": null,
      "id": "dIpZtxC1Vi4Z",
      "metadata": {
        "id": "dIpZtxC1Vi4Z"
      },
      "outputs": [],
      "source": [
        "import os\n",
        "\n",
        "# Define the paths to the train, test, and validation folders\n",
        "train_path = '/content/drive/MyDrive/Potato/Train'\n",
        "test_path = '/content/drive/MyDrive/Potato/Test'\n",
        "valid_path = '/content/drive/MyDrive/Potato/Valid'\n",
        "\n",
        "# Function to count the total number of images in a directory\n",
        "def count_images(directory):\n",
        "    total_images = sum([len(files) for _, _, files in os.walk(directory)])\n",
        "    return total_images\n",
        "\n",
        "# Print the number of classes and class names in the training dataset\n",
        "train_classes = os.listdir(train_path)\n",
        "print(\"Number of classes in the training dataset:\", len(train_classes))\n",
        "print(\"Class names in the training dataset:\", train_classes)\n",
        "\n",
        "# Print the total number of images in the training dataset\n",
        "total_train_images = count_images(train_path)\n",
        "print(\"Total number of images in the training dataset:\", total_train_images)\n",
        "\n",
        "# Print the number of classes and class names in the validation dataset\n",
        "valid_classes = os.listdir(valid_path)\n",
        "print(\"\\nNumber of classes in the validation dataset:\", len(valid_classes))\n",
        "print(\"Class names in the validation dataset:\", valid_classes)\n",
        "\n",
        "# Print the total number of images in the validation dataset\n",
        "total_valid_images = count_images(valid_path)\n",
        "print(\"Total number of images in the validation dataset:\", total_valid_images)"
      ]
    },
    {
      "cell_type": "code",
      "execution_count": null,
      "id": "5c2893dd-ad30-4073-a888-384d74ddf41a",
      "metadata": {
        "id": "5c2893dd-ad30-4073-a888-384d74ddf41a"
      },
      "outputs": [],
      "source": [
        "def plot_history(item):\n",
        "    plt.plot(history.history[item], label=item)\n",
        "    plt.plot(history.history[\"val_\" + item], label=\"val_\" + item)\n",
        "    plt.xlabel(\"Epochs\")\n",
        "    plt.ylabel(item)\n",
        "    plt.title(\"Train and Validation {} Over Epochs\".format(item), fontsize=14)\n",
        "    plt.legend()\n",
        "    plt.grid()\n",
        "    plt.show()\n",
        "\n",
        "\n",
        "plot_history(\"loss\")\n",
        "plot_history(\"accuracy\")"
      ]
    },
    {
      "cell_type": "code",
      "execution_count": null,
      "id": "a4e124d2-c966-4a84-b317-271f13d249ad",
      "metadata": {
        "id": "a4e124d2-c966-4a84-b317-271f13d249ad"
      },
      "outputs": [],
      "source": []
    },
    {
      "cell_type": "code",
      "execution_count": null,
      "id": "170b8d9c-59bf-4680-96fd-cdd1ea660b4e",
      "metadata": {
        "id": "170b8d9c-59bf-4680-96fd-cdd1ea660b4e"
      },
      "outputs": [],
      "source": [
        "from sklearn.metrics import classification_report\n",
        "import numpy as np\n",
        "from tabulate import tabulate\n",
        "\n",
        "# Predict on the test set\n",
        "y_pred = model.predict(test_ds)\n",
        "y_true = np.concatenate([y for x, y in test_ds], axis=0)\n",
        "\n",
        "# Generate classification report\n",
        "target_names = ['Potato_Early_Blight', 'Potato_Healthy', 'Potato_Late_Blight']  # Adjust class names accordingly\n",
        "class_report = classification_report(np.argmax(y_true, axis=1), np.argmax(y_pred, axis=1), target_names=target_names, output_dict=True)\n",
        "\n",
        "# Convert classification report dictionary to a table\n",
        "report_table = []\n",
        "for class_name, metrics in class_report.items():\n",
        "    if class_name in target_names:\n",
        "        row = [class_name, metrics['precision'], metrics['recall'], metrics['f1-score'], metrics['support']]\n",
        "        report_table.append(row)\n",
        "\n",
        "headers = ['Class', 'Precision', 'Recall', 'F1-score', 'Support']\n",
        "print(tabulate(report_table, headers=headers, tablefmt='grid'))\n"
      ]
    },
    {
      "cell_type": "code",
      "execution_count": null,
      "id": "tLKwN2nPMSfd",
      "metadata": {
        "id": "tLKwN2nPMSfd"
      },
      "outputs": [],
      "source": [
        "from sklearn.metrics import roc_curve, auc\n",
        "import matplotlib.pyplot as plt\n",
        "import numpy as np\n",
        "\n",
        "# Define class names\n",
        "class_names = ['Potato_Early_Blight', 'Potato_Healthy', 'Potato_Late_Blight']  # Assuming 'Potato_Early' is the first class\n",
        "\n",
        "# Predict on the test set\n",
        "y_pred = model.predict(test_ds)\n",
        "# print(y_pred)\n",
        "y_true = np.concatenate([y for x, y in test_ds], axis=0)\n",
        "\n",
        "# Calculate AUC and ROC curves\n",
        "fpr = dict()\n",
        "tpr = dict()\n",
        "roc_auc = dict()\n",
        "for i, class_name in enumerate(class_names):\n",
        "    class_index = i  # Assuming class index corresponds to its position in class_names\n",
        "    fpr[class_name], tpr[class_name], _ = roc_curve(y_true[:, class_index], y_pred[:, class_index])\n",
        "    roc_auc[class_name] = auc(fpr[class_name], tpr[class_name])\n",
        "\n",
        "# Plot ROC curves\n",
        "plt.figure()\n",
        "for class_name in class_names:\n",
        "    plt.plot(fpr[class_name], tpr[class_name], label='ROC curve ({}), (AUC = {:.2f})'.format(class_name, roc_auc[class_name]))\n",
        "plt.plot([0, 1], [0, 1], 'k--')\n",
        "plt.xlim([0.0, 1.0])\n",
        "plt.ylim([0.0, 1.05])\n",
        "plt.xlabel('False Positive Rate')\n",
        "plt.ylabel('True Positive Rate')\n",
        "plt.title('Receiver Operating Characteristic')\n",
        "plt.legend(loc=\"lower right\")\n",
        "plt.show()\n"
      ]
    },
    {
      "cell_type": "code",
      "execution_count": null,
      "id": "5SjXyyVFUSRy",
      "metadata": {
        "id": "5SjXyyVFUSRy"
      },
      "outputs": [],
      "source": []
    },
    {
      "cell_type": "code",
      "execution_count": null,
      "id": "5skRNNnPUSOT",
      "metadata": {
        "id": "5skRNNnPUSOT"
      },
      "outputs": [],
      "source": []
    },
    {
      "cell_type": "markdown",
      "id": "u8qkBznHZ3gi",
      "metadata": {
        "id": "u8qkBznHZ3gi"
      },
      "source": [
        "# **HYBRID MODEL**"
      ]
    },
    {
      "cell_type": "code",
      "execution_count": null,
      "id": "I8zwjHXTZ7Dt",
      "metadata": {
        "id": "I8zwjHXTZ7Dt"
      },
      "outputs": [],
      "source": []
    },
    {
      "cell_type": "code",
      "execution_count": null,
      "id": "NnU4xdu8USL7",
      "metadata": {
        "id": "NnU4xdu8USL7"
      },
      "outputs": [],
      "source": [
        "import tensorflow as tf\n",
        "from tensorflow import keras\n",
        "from tensorflow.keras import layers\n",
        "\n",
        "# Define ResNet50 model\n",
        "base_model = keras.applications.ResNet50(\n",
        "    include_top=False,\n",
        "    weights='imagenet',\n",
        "    input_shape=(224, 224, 3)\n",
        ")\n",
        "base_model.trainable = False\n",
        "\n",
        "# Extract feature maps\n",
        "feature_extractor = keras.Model(inputs=base_model.input, outputs=base_model.layers[-2].output)\n",
        "\n",
        "def create_vit_classifier():\n",
        "    inputs = keras.Input(shape=(7, 7, 2048))\n",
        "    x = layers.Flatten()(inputs)\n",
        "    x = layers.Dense(256, activation='relu')(x)\n",
        "    outputs = layers.Dense(3, activation='softmax')(x)  # Adjust the number of units to match the number of classes\n",
        "    model = keras.Model(inputs=inputs, outputs=outputs)\n",
        "    return model\n",
        "\n",
        "# Combine ResNet50 and Vision Transformer models\n",
        "def hybrid_model():\n",
        "    resnet_input = keras.Input(shape=(224, 224, 3))\n",
        "    resnet_features = feature_extractor(resnet_input)\n",
        "    # Reshape the feature maps to match the Vision Transformer input\n",
        "    resized_features = keras.layers.Reshape((7, 7, 2048))(resnet_features)\n",
        "    vit_output = create_vit_classifier()(resized_features)\n",
        "    model = keras.Model(inputs=resnet_input, outputs=vit_output)\n",
        "    return model\n",
        "\n",
        "# Load the datasets\n",
        "train_ds = keras.utils.image_dataset_from_directory(\n",
        "    directory='/content/drive/MyDrive/Potato/Train',\n",
        "    labels='inferred',\n",
        "    label_mode='categorical',\n",
        "    batch_size=32,\n",
        "    image_size=(224, 224)\n",
        ")\n",
        "test_ds = keras.utils.image_dataset_from_directory(\n",
        "    directory='/content/drive/MyDrive/Potato/Test',\n",
        "    labels='inferred',\n",
        "    label_mode='categorical',\n",
        "    batch_size=32,\n",
        "    image_size=(224, 224)\n",
        ")\n",
        "validation_ds = keras.utils.image_dataset_from_directory(\n",
        "    directory='/content/drive/MyDrive/Potato/Valid',\n",
        "    labels='inferred',\n",
        "    label_mode='categorical',\n",
        "    batch_size=32,\n",
        "    image_size=(224, 224)\n",
        ")\n",
        "\n",
        "# Compile and train the combined model\n",
        "model = hybrid_model()\n",
        "model.compile(optimizer='adam',\n",
        "              loss='categorical_crossentropy',\n",
        "              metrics=['accuracy'])\n",
        "\n",
        "history = model.fit(train_ds,\n",
        "                    epochs=50,\n",
        "                    validation_data=validation_ds,\n",
        "                    callbacks=[keras.callbacks.EarlyStopping(patience=5, restore_best_weights=True)])\n",
        "\n",
        "# Evaluate the model on the test set\n",
        "test_accuracy = model.evaluate(test_ds)\n",
        "print(\"Test Accuracy:\", test_accuracy[1])\n"
      ]
    },
    {
      "cell_type": "code",
      "execution_count": null,
      "id": "O4MckdszUSJk",
      "metadata": {
        "id": "O4MckdszUSJk"
      },
      "outputs": [],
      "source": [
        "import matplotlib.pyplot as plt\n",
        "\n",
        "# Plot training and validation accuracy\n",
        "plt.plot(history.history['accuracy'], label='Training Accuracy')\n",
        "plt.plot(history.history['val_accuracy'], label='Validation Accuracy')\n",
        "plt.xlabel('Epoch')\n",
        "plt.ylabel('Accuracy')\n",
        "plt.title('Training and Validation Accuracy')\n",
        "plt.legend()\n",
        "plt.show()\n",
        "\n",
        "# Plot training and validation loss\n",
        "plt.plot(history.history['loss'], label='Training Loss')\n",
        "plt.plot(history.history['val_loss'], label='Validation Loss')\n",
        "plt.xlabel('Epoch')\n",
        "plt.ylabel('Loss')\n",
        "plt.title('Training and Validation Loss')\n",
        "plt.legend()\n",
        "plt.show()\n",
        "\n",
        "# Calculate train and test error\n",
        "train_error = 1 - history.history['accuracy'][-1]  # Final training accuracy\n",
        "test_error = 1 - test_accuracy[1]  # Test accuracy from evaluation\n",
        "print(\"Train Error:\", train_error)\n",
        "print(\"Test Error:\", test_error)\n"
      ]
    },
    {
      "cell_type": "code",
      "execution_count": null,
      "id": "cQ104d0Mg71O",
      "metadata": {
        "id": "cQ104d0Mg71O"
      },
      "outputs": [],
      "source": [
        "model.summary()"
      ]
    },
    {
      "cell_type": "code",
      "execution_count": null,
      "id": "1xXefnc1g7px",
      "metadata": {
        "id": "1xXefnc1g7px"
      },
      "outputs": [],
      "source": [
        "def plot_history(item):\n",
        "    plt.plot(history.history[item], label=item)\n",
        "    plt.plot(history.history[\"val_\" + item], label=\"val_\" + item)\n",
        "    plt.xlabel(\"Epochs\")\n",
        "    plt.ylabel(item)\n",
        "    plt.title(\"Train and Validation {} Over Epochs\".format(item), fontsize=14)\n",
        "    plt.legend()\n",
        "    plt.grid()\n",
        "    plt.show()\n",
        "\n",
        "\n",
        "plot_history(\"loss\")\n",
        "plot_history(\"accuracy\")"
      ]
    },
    {
      "cell_type": "code",
      "execution_count": null,
      "id": "ON7hn7-nhLej",
      "metadata": {
        "id": "ON7hn7-nhLej"
      },
      "outputs": [],
      "source": [
        "from sklearn.metrics import roc_curve, auc\n",
        "import matplotlib.pyplot as plt\n",
        "import numpy as np\n",
        "\n",
        "# Define class names\n",
        "class_names = ['Potato_Early_Blight', 'Potato_Healthy', 'Potato_Late_Blight']  # Assuming 'Potato_Early' is the first class\n",
        "\n",
        "# Predict on the test set\n",
        "y_pred = model.predict(test_ds)\n",
        "# print(y_pred)\n",
        "y_true = np.concatenate([y for x, y in test_ds], axis=0)\n",
        "\n",
        "# Calculate AUC and ROC curves\n",
        "fpr = dict()\n",
        "tpr = dict()\n",
        "roc_auc = dict()\n",
        "for i, class_name in enumerate(class_names):\n",
        "    class_index = i  # Assuming class index corresponds to its position in class_names\n",
        "    fpr[class_name], tpr[class_name], _ = roc_curve(y_true[:, class_index], y_pred[:, class_index])\n",
        "    roc_auc[class_name] = auc(fpr[class_name], tpr[class_name])\n",
        "\n",
        "# Plot ROC curves\n",
        "plt.figure()\n",
        "for class_name in class_names:\n",
        "    plt.plot(fpr[class_name], tpr[class_name], label='ROC curve ({}), (AUC = {:.2f})'.format(class_name, roc_auc[class_name]))\n",
        "plt.plot([0, 1], [0, 1], 'k--')\n",
        "plt.xlim([0.0, 1.0])\n",
        "plt.ylim([0.0, 1.05])\n",
        "plt.xlabel('False Positive Rate')\n",
        "plt.ylabel('True Positive Rate')\n",
        "plt.title('Receiver Operating Characteristic')\n",
        "plt.legend(loc=\"lower right\")\n",
        "plt.show()\n"
      ]
    },
    {
      "cell_type": "code",
      "execution_count": null,
      "id": "ucpVNaBh-vqD",
      "metadata": {
        "id": "ucpVNaBh-vqD"
      },
      "outputs": [],
      "source": [
        "from sklearn.metrics import classification_report\n",
        "import numpy as np\n",
        "from tabulate import tabulate\n",
        "\n",
        "# Predict on the test set\n",
        "y_pred = model.predict(test_ds)\n",
        "y_true = np.concatenate([y for x, y in test_ds], axis=0)\n",
        "\n",
        "# Generate classification report\n",
        "target_names = ['Potato_Early_Blight', 'Potato_Healthy', 'Potato_Late_Blight']  # Adjust class names accordingly\n",
        "class_report = classification_report(np.argmax(y_true, axis=1), np.argmax(y_pred, axis=1), target_names=target_names, output_dict=True)\n",
        "\n",
        "# Convert classification report dictionary to a table\n",
        "report_table = []\n",
        "for class_name, metrics in class_report.items():\n",
        "    if class_name in target_names:\n",
        "        row = [class_name, metrics['precision'], metrics['recall'], metrics['f1-score'], metrics['support']]\n",
        "        report_table.append(row)\n",
        "\n",
        "headers = ['Class', 'Precision', 'Recall', 'F1-score', 'Support']\n",
        "print(tabulate(report_table, headers=headers, tablefmt='grid'))\n"
      ]
    },
    {
      "cell_type": "code",
      "execution_count": null,
      "id": "jvSaCUj0-vmq",
      "metadata": {
        "id": "jvSaCUj0-vmq"
      },
      "outputs": [],
      "source": []
    },
    {
      "cell_type": "code",
      "execution_count": null,
      "id": "70_dTDhZ-vj5",
      "metadata": {
        "id": "70_dTDhZ-vj5"
      },
      "outputs": [],
      "source": []
    },
    {
      "cell_type": "code",
      "execution_count": null,
      "id": "TCHYPaab-vhT",
      "metadata": {
        "id": "TCHYPaab-vhT"
      },
      "outputs": [],
      "source": []
    },
    {
      "cell_type": "code",
      "execution_count": null,
      "id": "0BVOZNbA-wey",
      "metadata": {
        "id": "0BVOZNbA-wey"
      },
      "outputs": [],
      "source": []
    },
    {
      "cell_type": "code",
      "execution_count": null,
      "id": "g-VW-wuyBjTf",
      "metadata": {
        "id": "g-VW-wuyBjTf"
      },
      "outputs": [],
      "source": []
    },
    {
      "cell_type": "code",
      "execution_count": null,
      "id": "0N8_7LZYBjP6",
      "metadata": {
        "id": "0N8_7LZYBjP6"
      },
      "outputs": [],
      "source": []
    },
    {
      "cell_type": "code",
      "execution_count": null,
      "id": "df-Sb_joBkGk",
      "metadata": {
        "id": "df-Sb_joBkGk"
      },
      "outputs": [],
      "source": []
    },
    {
      "cell_type": "code",
      "execution_count": null,
      "id": "PEuDdqAQBowl",
      "metadata": {
        "id": "PEuDdqAQBowl"
      },
      "outputs": [],
      "source": []
    },
    {
      "cell_type": "code",
      "execution_count": null,
      "id": "fzFOq_usCKPT",
      "metadata": {
        "id": "fzFOq_usCKPT"
      },
      "outputs": [],
      "source": []
    }
  ],
  "metadata": {
    "accelerator": "GPU",
    "colab": {
      "gpuType": "T4",
      "provenance": []
    },
    "kernelspec": {
      "display_name": "Python 3",
      "name": "python3"
    },
    "language_info": {
      "codemirror_mode": {
        "name": "ipython",
        "version": 3
      },
      "file_extension": ".py",
      "mimetype": "text/x-python",
      "name": "python",
      "nbconvert_exporter": "python",
      "pygments_lexer": "ipython3",
      "version": "3.10.8"
    }
  },
  "nbformat": 4,
  "nbformat_minor": 5
}